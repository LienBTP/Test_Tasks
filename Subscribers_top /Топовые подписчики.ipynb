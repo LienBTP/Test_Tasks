{
 "cells": [
  {
   "cell_type": "code",
   "execution_count": 5,
   "id": "8ff6052f",
   "metadata": {},
   "outputs": [],
   "source": [
    "import pandas as pd\n",
    "from datetime import datetime"
   ]
  },
  {
   "cell_type": "code",
   "execution_count": 15,
   "id": "a1770530",
   "metadata": {},
   "outputs": [
    {
     "name": "stdout",
     "output_type": "stream",
     "text": [
      "   id  user_id   timestamp  billing_period  billing_total_price_usd\n",
      "0   0       26  1708104067              74                       95\n",
      "1   1       40  1707585667              25                       46\n",
      "2   2       48  1704993667              50                       99\n",
      "3   3       15  1704475267              32                       15\n",
      "4   4       38  1706030467              84                       83\n",
      "\n",
      "   id  user_id   timestamp  billing_period  billing_total_price_usd\n",
      "0  23        1  1706555483               6                       60\n"
     ]
    }
   ],
   "source": [
    "# примеры данных \n",
    "a = pd.read_csv('C:/Users/Лиен/Desktop/Jupyter/sample_1.csv')\n",
    "b = pd.read_csv('C:/Users/Лиен/Desktop/Jupyter/sample_2.csv')\n",
    "\n",
    "print(a)\n",
    "print()\n",
    "print(b)"
   ]
  },
  {
   "cell_type": "code",
   "execution_count": 13,
   "id": "d68b1e54",
   "metadata": {},
   "outputs": [
    {
     "name": "stdout",
     "output_type": "stream",
     "text": [
      "121.03\n",
      "30.0\n"
     ]
    }
   ],
   "source": [
    "def process(df):\n",
    "    #приведение столбца timestamp в формат datetime\n",
    "    df[\"timestamp\"] = pd.to_datetime(df[\"timestamp\"], unit='s')\n",
    "    # расчет стоимости подписки в день\n",
    "    df[\"contribution\"] = df[\"billing_total_price_usd\"] / df[\"billing_period\"]\n",
    "    # добавление столбца с датой окончания подписки\n",
    "    df[\"end_date\"] = df[\"timestamp\"] + pd.to_timedelta(df[\"billing_period\"], unit='D')\n",
    "    \n",
    "    # задаем период, для которого рассчитывается финансовый вклад\n",
    "    first_day = pd.Timestamp(\"2024-02-01\")\n",
    "    last_day = pd.Timestamp(\"2024-03-01\")\n",
    "    \n",
    "    # фильтруем даты \n",
    "    df_feb = df[(df[\"timestamp\"] <= last_day) & (df[\"end_date\"] >= first_day)]\n",
    "    df['days_in_feb'] = (df_feb[[\"timestamp\", \"end_date\"]].max(axis=1).clip(lower=first_day, upper=last_day)-df_feb[[\"timestamp\", \"end_date\"]].min(axis=1).clip(lower=first_day, upper=last_day)).dt.days\n",
    "    \n",
    "    # расчет финансового вклада по каждой подписке\n",
    "    df['contribution_sum']=df.contribution*df.days_in_feb\n",
    "    \n",
    "    # расчет финансового вклада со всех подписок пользователя\n",
    "    user_contributions = df.groupby(\"user_id\")[\"contribution_sum\"].sum().reset_index()\n",
    "    top3_users = user_contributions.nlargest(3, \"contribution_sum\")\n",
    "    contribution_sum = round(top3_users['contribution_sum'].sum(),2)\n",
    "    return contribution_sum\n",
    "\n",
    "print(process(df=a))\n",
    "print(process(df=b))"
   ]
  },
  {
   "cell_type": "code",
   "execution_count": null,
   "id": "c975163c",
   "metadata": {},
   "outputs": [],
   "source": []
  }
 ],
 "metadata": {
  "kernelspec": {
   "display_name": "Python 3 (ipykernel)",
   "language": "python",
   "name": "python3"
  },
  "language_info": {
   "codemirror_mode": {
    "name": "ipython",
    "version": 3
   },
   "file_extension": ".py",
   "mimetype": "text/x-python",
   "name": "python",
   "nbconvert_exporter": "python",
   "pygments_lexer": "ipython3",
   "version": "3.9.12"
  }
 },
 "nbformat": 4,
 "nbformat_minor": 5
}
